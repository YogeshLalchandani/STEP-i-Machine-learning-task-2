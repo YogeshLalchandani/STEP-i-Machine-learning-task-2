{
 "cells": [
  {
   "cell_type": "code",
   "execution_count": 1,
   "id": "34cd1619",
   "metadata": {},
   "outputs": [],
   "source": [
    "import numpy as np\n",
    "import pandas as pd\n",
    "import seaborn as sns\n",
    "import matplotlib.pyplot as plt\n",
    "%matplotlib inline"
   ]
  },
  {
   "cell_type": "code",
   "execution_count": 2,
   "id": "9533642c",
   "metadata": {},
   "outputs": [],
   "source": [
    "df=pd.read_excel(\"Data_file.xlsx\",header=2)"
   ]
  },
  {
   "cell_type": "code",
   "execution_count": 3,
   "id": "06b7cae9",
   "metadata": {},
   "outputs": [
    {
     "data": {
      "text/html": [
       "<div>\n",
       "<style scoped>\n",
       "    .dataframe tbody tr th:only-of-type {\n",
       "        vertical-align: middle;\n",
       "    }\n",
       "\n",
       "    .dataframe tbody tr th {\n",
       "        vertical-align: top;\n",
       "    }\n",
       "\n",
       "    .dataframe thead th {\n",
       "        text-align: right;\n",
       "    }\n",
       "</style>\n",
       "<table border=\"1\" class=\"dataframe\">\n",
       "  <thead>\n",
       "    <tr style=\"text-align: right;\">\n",
       "      <th></th>\n",
       "      <th>S.No.</th>\n",
       "      <th>College</th>\n",
       "      <th>Role</th>\n",
       "      <th>City type</th>\n",
       "      <th>Previous CTC</th>\n",
       "      <th>Previous job changes</th>\n",
       "      <th>Graduation marks</th>\n",
       "      <th>Exp (Months)</th>\n",
       "      <th>CTC</th>\n",
       "    </tr>\n",
       "  </thead>\n",
       "  <tbody>\n",
       "    <tr>\n",
       "      <th>0</th>\n",
       "      <td>1</td>\n",
       "      <td>Tier 1</td>\n",
       "      <td>Manager</td>\n",
       "      <td>Non-Metro</td>\n",
       "      <td>55523</td>\n",
       "      <td>3</td>\n",
       "      <td>66</td>\n",
       "      <td>19</td>\n",
       "      <td>71406.576531</td>\n",
       "    </tr>\n",
       "    <tr>\n",
       "      <th>1</th>\n",
       "      <td>2</td>\n",
       "      <td>Tier 2</td>\n",
       "      <td>Executive</td>\n",
       "      <td>Metro</td>\n",
       "      <td>57081</td>\n",
       "      <td>1</td>\n",
       "      <td>84</td>\n",
       "      <td>18</td>\n",
       "      <td>68005.870631</td>\n",
       "    </tr>\n",
       "    <tr>\n",
       "      <th>2</th>\n",
       "      <td>3</td>\n",
       "      <td>Tier 2</td>\n",
       "      <td>Executive</td>\n",
       "      <td>Metro</td>\n",
       "      <td>60347</td>\n",
       "      <td>2</td>\n",
       "      <td>52</td>\n",
       "      <td>28</td>\n",
       "      <td>76764.020277</td>\n",
       "    </tr>\n",
       "    <tr>\n",
       "      <th>3</th>\n",
       "      <td>4</td>\n",
       "      <td>Tier 3</td>\n",
       "      <td>Executive</td>\n",
       "      <td>Metro</td>\n",
       "      <td>49010</td>\n",
       "      <td>2</td>\n",
       "      <td>81</td>\n",
       "      <td>33</td>\n",
       "      <td>82092.386880</td>\n",
       "    </tr>\n",
       "    <tr>\n",
       "      <th>4</th>\n",
       "      <td>5</td>\n",
       "      <td>Tier 3</td>\n",
       "      <td>Executive</td>\n",
       "      <td>Metro</td>\n",
       "      <td>57879</td>\n",
       "      <td>4</td>\n",
       "      <td>74</td>\n",
       "      <td>32</td>\n",
       "      <td>73878.097729</td>\n",
       "    </tr>\n",
       "  </tbody>\n",
       "</table>\n",
       "</div>"
      ],
      "text/plain": [
       "   S.No. College       Role  City type  Previous CTC  Previous job changes  \\\n",
       "0      1  Tier 1    Manager  Non-Metro         55523                     3   \n",
       "1      2  Tier 2  Executive      Metro         57081                     1   \n",
       "2      3  Tier 2  Executive      Metro         60347                     2   \n",
       "3      4  Tier 3  Executive      Metro         49010                     2   \n",
       "4      5  Tier 3  Executive      Metro         57879                     4   \n",
       "\n",
       "   Graduation marks  Exp (Months)           CTC  \n",
       "0                66            19  71406.576531  \n",
       "1                84            18  68005.870631  \n",
       "2                52            28  76764.020277  \n",
       "3                81            33  82092.386880  \n",
       "4                74            32  73878.097729  "
      ]
     },
     "execution_count": 3,
     "metadata": {},
     "output_type": "execute_result"
    }
   ],
   "source": [
    "df.head()"
   ]
  },
  {
   "cell_type": "code",
   "execution_count": 4,
   "id": "76e327ab",
   "metadata": {},
   "outputs": [
    {
     "data": {
      "text/plain": [
       "(1338, 9)"
      ]
     },
     "execution_count": 4,
     "metadata": {},
     "output_type": "execute_result"
    }
   ],
   "source": [
    "df.shape"
   ]
  },
  {
   "cell_type": "markdown",
   "id": "66a4165a",
   "metadata": {},
   "source": [
    "We have 1338 rows and 9 columns"
   ]
  },
  {
   "cell_type": "code",
   "execution_count": 5,
   "id": "5112c575",
   "metadata": {},
   "outputs": [
    {
     "name": "stdout",
     "output_type": "stream",
     "text": [
      "<class 'pandas.core.frame.DataFrame'>\n",
      "RangeIndex: 1338 entries, 0 to 1337\n",
      "Data columns (total 9 columns):\n",
      " #   Column                Non-Null Count  Dtype  \n",
      "---  ------                --------------  -----  \n",
      " 0   S.No.                 1338 non-null   int64  \n",
      " 1   College               1338 non-null   object \n",
      " 2   Role                  1338 non-null   object \n",
      " 3   City type             1338 non-null   object \n",
      " 4   Previous CTC          1338 non-null   int64  \n",
      " 5   Previous job changes  1338 non-null   int64  \n",
      " 6   Graduation marks      1338 non-null   int64  \n",
      " 7   Exp (Months)          1338 non-null   int64  \n",
      " 8   CTC                   1338 non-null   float64\n",
      "dtypes: float64(1), int64(5), object(3)\n",
      "memory usage: 94.2+ KB\n"
     ]
    }
   ],
   "source": [
    "df.info()"
   ]
  },
  {
   "cell_type": "markdown",
   "id": "17a1d0c5",
   "metadata": {},
   "source": [
    "we dont need serial number as python has already assigned index to our dataset"
   ]
  },
  {
   "cell_type": "code",
   "execution_count": 6,
   "id": "6222859a",
   "metadata": {},
   "outputs": [],
   "source": [
    "del df[\"S.No.\"]"
   ]
  },
  {
   "cell_type": "markdown",
   "id": "b0ea34b1",
   "metadata": {},
   "source": [
    "We can see that there are 3 categorical feature and there is not any null value in the dataset"
   ]
  },
  {
   "cell_type": "code",
   "execution_count": 7,
   "id": "2d53c0e8",
   "metadata": {},
   "outputs": [
    {
     "data": {
      "text/html": [
       "<div>\n",
       "<style scoped>\n",
       "    .dataframe tbody tr th:only-of-type {\n",
       "        vertical-align: middle;\n",
       "    }\n",
       "\n",
       "    .dataframe tbody tr th {\n",
       "        vertical-align: top;\n",
       "    }\n",
       "\n",
       "    .dataframe thead th {\n",
       "        text-align: right;\n",
       "    }\n",
       "</style>\n",
       "<table border=\"1\" class=\"dataframe\">\n",
       "  <thead>\n",
       "    <tr style=\"text-align: right;\">\n",
       "      <th></th>\n",
       "      <th>Previous CTC</th>\n",
       "      <th>Previous job changes</th>\n",
       "      <th>Graduation marks</th>\n",
       "      <th>Exp (Months)</th>\n",
       "      <th>CTC</th>\n",
       "    </tr>\n",
       "  </thead>\n",
       "  <tbody>\n",
       "    <tr>\n",
       "      <th>count</th>\n",
       "      <td>1338.000000</td>\n",
       "      <td>1338.000000</td>\n",
       "      <td>1338.000000</td>\n",
       "      <td>1338.000000</td>\n",
       "      <td>1338.000000</td>\n",
       "    </tr>\n",
       "    <tr>\n",
       "      <th>mean</th>\n",
       "      <td>55581.762332</td>\n",
       "      <td>2.525411</td>\n",
       "      <td>59.890882</td>\n",
       "      <td>39.207025</td>\n",
       "      <td>75459.338993</td>\n",
       "    </tr>\n",
       "    <tr>\n",
       "      <th>std</th>\n",
       "      <td>6685.600553</td>\n",
       "      <td>1.123502</td>\n",
       "      <td>14.894696</td>\n",
       "      <td>14.049960</td>\n",
       "      <td>12551.280263</td>\n",
       "    </tr>\n",
       "    <tr>\n",
       "      <th>min</th>\n",
       "      <td>36990.000000</td>\n",
       "      <td>1.000000</td>\n",
       "      <td>35.000000</td>\n",
       "      <td>18.000000</td>\n",
       "      <td>53020.319026</td>\n",
       "    </tr>\n",
       "    <tr>\n",
       "      <th>25%</th>\n",
       "      <td>50547.000000</td>\n",
       "      <td>2.000000</td>\n",
       "      <td>47.000000</td>\n",
       "      <td>27.000000</td>\n",
       "      <td>66905.070033</td>\n",
       "    </tr>\n",
       "    <tr>\n",
       "      <th>50%</th>\n",
       "      <td>55293.500000</td>\n",
       "      <td>3.000000</td>\n",
       "      <td>60.000000</td>\n",
       "      <td>39.000000</td>\n",
       "      <td>73112.640487</td>\n",
       "    </tr>\n",
       "    <tr>\n",
       "      <th>75%</th>\n",
       "      <td>60150.500000</td>\n",
       "      <td>4.000000</td>\n",
       "      <td>73.000000</td>\n",
       "      <td>51.000000</td>\n",
       "      <td>80747.178420</td>\n",
       "    </tr>\n",
       "    <tr>\n",
       "      <th>max</th>\n",
       "      <td>77911.000000</td>\n",
       "      <td>4.000000</td>\n",
       "      <td>85.000000</td>\n",
       "      <td>64.000000</td>\n",
       "      <td>123416.994271</td>\n",
       "    </tr>\n",
       "  </tbody>\n",
       "</table>\n",
       "</div>"
      ],
      "text/plain": [
       "       Previous CTC  Previous job changes  Graduation marks  Exp (Months)  \\\n",
       "count   1338.000000           1338.000000       1338.000000   1338.000000   \n",
       "mean   55581.762332              2.525411         59.890882     39.207025   \n",
       "std     6685.600553              1.123502         14.894696     14.049960   \n",
       "min    36990.000000              1.000000         35.000000     18.000000   \n",
       "25%    50547.000000              2.000000         47.000000     27.000000   \n",
       "50%    55293.500000              3.000000         60.000000     39.000000   \n",
       "75%    60150.500000              4.000000         73.000000     51.000000   \n",
       "max    77911.000000              4.000000         85.000000     64.000000   \n",
       "\n",
       "                 CTC  \n",
       "count    1338.000000  \n",
       "mean    75459.338993  \n",
       "std     12551.280263  \n",
       "min     53020.319026  \n",
       "25%     66905.070033  \n",
       "50%     73112.640487  \n",
       "75%     80747.178420  \n",
       "max    123416.994271  "
      ]
     },
     "execution_count": 7,
     "metadata": {},
     "output_type": "execute_result"
    }
   ],
   "source": [
    "df.describe()"
   ]
  },
  {
   "cell_type": "code",
   "execution_count": 8,
   "id": "8727e4c2",
   "metadata": {},
   "outputs": [
    {
     "data": {
      "text/plain": [
       "<seaborn.axisgrid.JointGrid at 0x2cbf2dae0d0>"
      ]
     },
     "execution_count": 8,
     "metadata": {},
     "output_type": "execute_result"
    },
    {
     "data": {
      "image/png": "[encoded data removed]",
      "text/plain": [
       "<Figure size 432x432 with 3 Axes>"
      ]
     },
     "metadata": {
      "needs_background": "light"
     },
     "output_type": "display_data"
    }
   ],
   "source": [
    "sns.jointplot(x=\"Previous CTC\",y=\"CTC\",data=df)"
   ]
  },
  {
   "cell_type": "code",
   "execution_count": 9,
   "id": "55605b2c",
   "metadata": {},
   "outputs": [
    {
     "data": {
      "text/plain": [
       "<seaborn.axisgrid.JointGrid at 0x2cbf3649460>"
      ]
     },
     "execution_count": 9,
     "metadata": {},
     "output_type": "execute_result"
    },
    {
     "data": {
      "image/png": "[encoded data removed]",
      "text/plain": [
       "<Figure size 432x432 with 3 Axes>"
      ]
     },
     "metadata": {
      "needs_background": "light"
     },
     "output_type": "display_data"
    }
   ],
   "source": [
    "sns.jointplot(x=\"Previous job changes\",y=\"CTC\",data=df)"
   ]
  },
  {
   "cell_type": "code",
   "execution_count": 10,
   "id": "5bbdaeac",
   "metadata": {},
   "outputs": [
    {
     "data": {
      "text/plain": [
       "<seaborn.axisgrid.JointGrid at 0x2cbf36b2a30>"
      ]
     },
     "execution_count": 10,
     "metadata": {},
     "output_type": "execute_result"
    },
    {
     "data": {
      "image/png": "[encoded data removed]",
      "text/plain": [
       "<Figure size 432x432 with 3 Axes>"
      ]
     },
     "metadata": {
      "needs_background": "light"
     },
     "output_type": "display_data"
    }
   ],
   "source": [
    "sns.jointplot(x=\"Graduation marks\",y=\"CTC\",data=df)"
   ]
  },
  {
   "cell_type": "code",
   "execution_count": 11,
   "id": "9d15e488",
   "metadata": {},
   "outputs": [
    {
     "data": {
      "text/plain": [
       "<seaborn.axisgrid.JointGrid at 0x2cbf39dbbe0>"
      ]
     },
     "execution_count": 11,
     "metadata": {},
     "output_type": "execute_result"
    },
    {
     "data": {
      "image/png": "[encoded data removed]",
      "text/plain": [
       "<Figure size 432x432 with 3 Axes>"
      ]
     },
     "metadata": {
      "needs_background": "light"
     },
     "output_type": "display_data"
    }
   ],
   "source": [
    "sns.jointplot(x=\"Exp (Months)\",y=\"CTC\",data=df)"
   ]
  },
  {
   "cell_type": "code",
   "execution_count": 12,
   "id": "3ca98f56",
   "metadata": {},
   "outputs": [
    {
     "data": {
      "text/plain": [
       "<AxesSubplot:xlabel='College', ylabel='count'>"
      ]
     },
     "execution_count": 12,
     "metadata": {},
     "output_type": "execute_result"
    },
    {
     "data": {
      "image/png": "[encoded data removed]",
      "text/plain": [
       "<Figure size 432x288 with 1 Axes>"
      ]
     },
     "metadata": {
      "needs_background": "light"
     },
     "output_type": "display_data"
    }
   ],
   "source": [
    "sns.countplot(x='College',data=df)"
   ]
  },
  {
   "cell_type": "code",
   "execution_count": 13,
   "id": "65129d87",
   "metadata": {},
   "outputs": [
    {
     "data": {
      "text/plain": [
       "<AxesSubplot:xlabel='Role', ylabel='count'>"
      ]
     },
     "execution_count": 13,
     "metadata": {},
     "output_type": "execute_result"
    },
    {
     "data": {
      "image/png": "[encoded data removed]",
      "text/plain": [
       "<Figure size 432x288 with 1 Axes>"
      ]
     },
     "metadata": {
      "needs_background": "light"
     },
     "output_type": "display_data"
    }
   ],
   "source": [
    "sns.countplot(x='Role',data=df)"
   ]
  },
  {
   "cell_type": "code",
   "execution_count": 14,
   "id": "c462a6da",
   "metadata": {},
   "outputs": [
    {
     "data": {
      "text/plain": [
       "<AxesSubplot:xlabel='City type', ylabel='count'>"
      ]
     },
     "execution_count": 14,
     "metadata": {},
     "output_type": "execute_result"
    },
    {
     "data": {
      "image/png": "[encoded data removed]",
      "text/plain": [
       "<Figure size 432x288 with 1 Axes>"
      ]
     },
     "metadata": {
      "needs_background": "light"
     },
     "output_type": "display_data"
    }
   ],
   "source": [
    "sns.countplot(x='City type',data=df)"
   ]
  },
  {
   "cell_type": "markdown",
   "id": "09f2b8c2",
   "metadata": {},
   "source": [
    "Changing categorical data to dummy variables"
   ]
  },
  {
   "cell_type": "code",
   "execution_count": 15,
   "id": "faf67d2d",
   "metadata": {},
   "outputs": [],
   "source": [
    "df = pd.get_dummies(df,drop_first=True)"
   ]
  },
  {
   "cell_type": "code",
   "execution_count": 16,
   "id": "80c9082d",
   "metadata": {},
   "outputs": [
    {
     "data": {
      "text/html": [
       "<div>\n",
       "<style scoped>\n",
       "    .dataframe tbody tr th:only-of-type {\n",
       "        vertical-align: middle;\n",
       "    }\n",
       "\n",
       "    .dataframe tbody tr th {\n",
       "        vertical-align: top;\n",
       "    }\n",
       "\n",
       "    .dataframe thead th {\n",
       "        text-align: right;\n",
       "    }\n",
       "</style>\n",
       "<table border=\"1\" class=\"dataframe\">\n",
       "  <thead>\n",
       "    <tr style=\"text-align: right;\">\n",
       "      <th></th>\n",
       "      <th>Previous CTC</th>\n",
       "      <th>Previous job changes</th>\n",
       "      <th>Graduation marks</th>\n",
       "      <th>Exp (Months)</th>\n",
       "      <th>CTC</th>\n",
       "      <th>College_Tier 2</th>\n",
       "      <th>College_Tier 3</th>\n",
       "      <th>Role_Manager</th>\n",
       "      <th>City type_Non-Metro</th>\n",
       "    </tr>\n",
       "  </thead>\n",
       "  <tbody>\n",
       "    <tr>\n",
       "      <th>0</th>\n",
       "      <td>55523</td>\n",
       "      <td>3</td>\n",
       "      <td>66</td>\n",
       "      <td>19</td>\n",
       "      <td>71406.576531</td>\n",
       "      <td>0</td>\n",
       "      <td>0</td>\n",
       "      <td>1</td>\n",
       "      <td>1</td>\n",
       "    </tr>\n",
       "    <tr>\n",
       "      <th>1</th>\n",
       "      <td>57081</td>\n",
       "      <td>1</td>\n",
       "      <td>84</td>\n",
       "      <td>18</td>\n",
       "      <td>68005.870631</td>\n",
       "      <td>1</td>\n",
       "      <td>0</td>\n",
       "      <td>0</td>\n",
       "      <td>0</td>\n",
       "    </tr>\n",
       "    <tr>\n",
       "      <th>2</th>\n",
       "      <td>60347</td>\n",
       "      <td>2</td>\n",
       "      <td>52</td>\n",
       "      <td>28</td>\n",
       "      <td>76764.020277</td>\n",
       "      <td>1</td>\n",
       "      <td>0</td>\n",
       "      <td>0</td>\n",
       "      <td>0</td>\n",
       "    </tr>\n",
       "    <tr>\n",
       "      <th>3</th>\n",
       "      <td>49010</td>\n",
       "      <td>2</td>\n",
       "      <td>81</td>\n",
       "      <td>33</td>\n",
       "      <td>82092.386880</td>\n",
       "      <td>0</td>\n",
       "      <td>1</td>\n",
       "      <td>0</td>\n",
       "      <td>0</td>\n",
       "    </tr>\n",
       "    <tr>\n",
       "      <th>4</th>\n",
       "      <td>57879</td>\n",
       "      <td>4</td>\n",
       "      <td>74</td>\n",
       "      <td>32</td>\n",
       "      <td>73878.097729</td>\n",
       "      <td>0</td>\n",
       "      <td>1</td>\n",
       "      <td>0</td>\n",
       "      <td>0</td>\n",
       "    </tr>\n",
       "  </tbody>\n",
       "</table>\n",
       "</div>"
      ],
      "text/plain": [
       "   Previous CTC  Previous job changes  Graduation marks  Exp (Months)  \\\n",
       "0         55523                     3                66            19   \n",
       "1         57081                     1                84            18   \n",
       "2         60347                     2                52            28   \n",
       "3         49010                     2                81            33   \n",
       "4         57879                     4                74            32   \n",
       "\n",
       "            CTC  College_Tier 2  College_Tier 3  Role_Manager  \\\n",
       "0  71406.576531               0               0             1   \n",
       "1  68005.870631               1               0             0   \n",
       "2  76764.020277               1               0             0   \n",
       "3  82092.386880               0               1             0   \n",
       "4  73878.097729               0               1             0   \n",
       "\n",
       "   City type_Non-Metro  \n",
       "0                    1  \n",
       "1                    0  \n",
       "2                    0  \n",
       "3                    0  \n",
       "4                    0  "
      ]
     },
     "execution_count": 16,
     "metadata": {},
     "output_type": "execute_result"
    }
   ],
   "source": [
    "df.head()"
   ]
  },
  {
   "cell_type": "code",
   "execution_count": 17,
   "id": "61e50715",
   "metadata": {},
   "outputs": [
    {
     "data": {
      "text/html": [
       "<div>\n",
       "<style scoped>\n",
       "    .dataframe tbody tr th:only-of-type {\n",
       "        vertical-align: middle;\n",
       "    }\n",
       "\n",
       "    .dataframe tbody tr th {\n",
       "        vertical-align: top;\n",
       "    }\n",
       "\n",
       "    .dataframe thead th {\n",
       "        text-align: right;\n",
       "    }\n",
       "</style>\n",
       "<table border=\"1\" class=\"dataframe\">\n",
       "  <thead>\n",
       "    <tr style=\"text-align: right;\">\n",
       "      <th></th>\n",
       "      <th>Previous CTC</th>\n",
       "      <th>Previous job changes</th>\n",
       "      <th>Graduation marks</th>\n",
       "      <th>Exp (Months)</th>\n",
       "      <th>CTC</th>\n",
       "      <th>College_Tier 2</th>\n",
       "      <th>College_Tier 3</th>\n",
       "      <th>Role_Manager</th>\n",
       "      <th>City type_Non-Metro</th>\n",
       "    </tr>\n",
       "  </thead>\n",
       "  <tbody>\n",
       "    <tr>\n",
       "      <th>Previous CTC</th>\n",
       "      <td>1.000000</td>\n",
       "      <td>0.008282</td>\n",
       "      <td>-0.037170</td>\n",
       "      <td>0.117035</td>\n",
       "      <td>0.270260</td>\n",
       "      <td>0.232138</td>\n",
       "      <td>-0.135957</td>\n",
       "      <td>0.021208</td>\n",
       "      <td>-0.036956</td>\n",
       "    </tr>\n",
       "    <tr>\n",
       "      <th>Previous job changes</th>\n",
       "      <td>0.008282</td>\n",
       "      <td>1.000000</td>\n",
       "      <td>0.001507</td>\n",
       "      <td>0.034137</td>\n",
       "      <td>0.007518</td>\n",
       "      <td>0.008599</td>\n",
       "      <td>-0.052387</td>\n",
       "      <td>-0.013131</td>\n",
       "      <td>0.001568</td>\n",
       "    </tr>\n",
       "    <tr>\n",
       "      <th>Graduation marks</th>\n",
       "      <td>-0.037170</td>\n",
       "      <td>0.001507</td>\n",
       "      <td>1.000000</td>\n",
       "      <td>-0.065412</td>\n",
       "      <td>-0.017557</td>\n",
       "      <td>0.010571</td>\n",
       "      <td>-0.029326</td>\n",
       "      <td>0.014541</td>\n",
       "      <td>-0.018550</td>\n",
       "    </tr>\n",
       "    <tr>\n",
       "      <th>Exp (Months)</th>\n",
       "      <td>0.117035</td>\n",
       "      <td>0.034137</td>\n",
       "      <td>-0.065412</td>\n",
       "      <td>1.000000</td>\n",
       "      <td>0.301569</td>\n",
       "      <td>-0.011642</td>\n",
       "      <td>-0.000407</td>\n",
       "      <td>-0.025019</td>\n",
       "      <td>0.020856</td>\n",
       "    </tr>\n",
       "    <tr>\n",
       "      <th>CTC</th>\n",
       "      <td>0.270260</td>\n",
       "      <td>0.007518</td>\n",
       "      <td>-0.017557</td>\n",
       "      <td>0.301569</td>\n",
       "      <td>1.000000</td>\n",
       "      <td>-0.041814</td>\n",
       "      <td>-0.149194</td>\n",
       "      <td>0.625435</td>\n",
       "      <td>-0.211258</td>\n",
       "    </tr>\n",
       "    <tr>\n",
       "      <th>College_Tier 2</th>\n",
       "      <td>0.232138</td>\n",
       "      <td>0.008599</td>\n",
       "      <td>0.010571</td>\n",
       "      <td>-0.011642</td>\n",
       "      <td>-0.041814</td>\n",
       "      <td>1.000000</td>\n",
       "      <td>-0.346265</td>\n",
       "      <td>0.068498</td>\n",
       "      <td>-0.017117</td>\n",
       "    </tr>\n",
       "    <tr>\n",
       "      <th>College_Tier 3</th>\n",
       "      <td>-0.135957</td>\n",
       "      <td>-0.052387</td>\n",
       "      <td>-0.029326</td>\n",
       "      <td>-0.000407</td>\n",
       "      <td>-0.149194</td>\n",
       "      <td>-0.346265</td>\n",
       "      <td>1.000000</td>\n",
       "      <td>-0.036945</td>\n",
       "      <td>0.011156</td>\n",
       "    </tr>\n",
       "    <tr>\n",
       "      <th>Role_Manager</th>\n",
       "      <td>0.021208</td>\n",
       "      <td>-0.013131</td>\n",
       "      <td>0.014541</td>\n",
       "      <td>-0.025019</td>\n",
       "      <td>0.625435</td>\n",
       "      <td>0.068498</td>\n",
       "      <td>-0.036945</td>\n",
       "      <td>1.000000</td>\n",
       "      <td>-0.076185</td>\n",
       "    </tr>\n",
       "    <tr>\n",
       "      <th>City type_Non-Metro</th>\n",
       "      <td>-0.036956</td>\n",
       "      <td>0.001568</td>\n",
       "      <td>-0.018550</td>\n",
       "      <td>0.020856</td>\n",
       "      <td>-0.211258</td>\n",
       "      <td>-0.017117</td>\n",
       "      <td>0.011156</td>\n",
       "      <td>-0.076185</td>\n",
       "      <td>1.000000</td>\n",
       "    </tr>\n",
       "  </tbody>\n",
       "</table>\n",
       "</div>"
      ],
      "text/plain": [
       "                      Previous CTC  Previous job changes  Graduation marks  \\\n",
       "Previous CTC              1.000000              0.008282         -0.037170   \n",
       "Previous job changes      0.008282              1.000000          0.001507   \n",
       "Graduation marks         -0.037170              0.001507          1.000000   \n",
       "Exp (Months)              0.117035              0.034137         -0.065412   \n",
       "CTC                       0.270260              0.007518         -0.017557   \n",
       "College_Tier 2            0.232138              0.008599          0.010571   \n",
       "College_Tier 3           -0.135957             -0.052387         -0.029326   \n",
       "Role_Manager              0.021208             -0.013131          0.014541   \n",
       "City type_Non-Metro      -0.036956              0.001568         -0.018550   \n",
       "\n",
       "                      Exp (Months)       CTC  College_Tier 2  College_Tier 3  \\\n",
       "Previous CTC              0.117035  0.270260        0.232138       -0.135957   \n",
       "Previous job changes      0.034137  0.007518        0.008599       -0.052387   \n",
       "Graduation marks         -0.065412 -0.017557        0.010571       -0.029326   \n",
       "Exp (Months)              1.000000  0.301569       -0.011642       -0.000407   \n",
       "CTC                       0.301569  1.000000       -0.041814       -0.149194   \n",
       "College_Tier 2           -0.011642 -0.041814        1.000000       -0.346265   \n",
       "College_Tier 3           -0.000407 -0.149194       -0.346265        1.000000   \n",
       "Role_Manager             -0.025019  0.625435        0.068498       -0.036945   \n",
       "City type_Non-Metro       0.020856 -0.211258       -0.017117        0.011156   \n",
       "\n",
       "                      Role_Manager  City type_Non-Metro  \n",
       "Previous CTC              0.021208            -0.036956  \n",
       "Previous job changes     -0.013131             0.001568  \n",
       "Graduation marks          0.014541            -0.018550  \n",
       "Exp (Months)             -0.025019             0.020856  \n",
       "CTC                       0.625435            -0.211258  \n",
       "College_Tier 2            0.068498            -0.017117  \n",
       "College_Tier 3           -0.036945             0.011156  \n",
       "Role_Manager              1.000000            -0.076185  \n",
       "City type_Non-Metro      -0.076185             1.000000  "
      ]
     },
     "execution_count": 17,
     "metadata": {},
     "output_type": "execute_result"
    }
   ],
   "source": [
    "df.corr()"
   ]
  },
  {
   "cell_type": "code",
   "execution_count": 18,
   "id": "7b96c5d3",
   "metadata": {},
   "outputs": [
    {
     "data": {
      "text/plain": [
       "<AxesSubplot:title={'center':'Heatmap of Correlation matrix'}>"
      ]
     },
     "execution_count": 18,
     "metadata": {},
     "output_type": "execute_result"
    },
    {
     "data": {
      "image/png": "[encoded data removed]",
      "text/plain": [
       "<Figure size 720x576 with 2 Axes>"
      ]
     },
     "metadata": {
      "needs_background": "light"
     },
     "output_type": "display_data"
    }
   ],
   "source": [
    "colormap = plt.cm.RdBu\n",
    "plt.figure(figsize=(10,8))\n",
    "plt.title('Heatmap of Correlation matrix', size=15)\n",
    "sns.heatmap(df.corr(),linewidths=0.1,vmax=1.0, square=True, cmap=colormap, linecolor='white', annot=True)"
   ]
  },
  {
   "cell_type": "markdown",
   "id": "d55c1a88",
   "metadata": {},
   "source": [
    "Creating linear regression model"
   ]
  },
  {
   "cell_type": "code",
   "execution_count": 19,
   "id": "0e5832c5",
   "metadata": {},
   "outputs": [],
   "source": [
    "from sklearn.linear_model import LinearRegression"
   ]
  },
  {
   "cell_type": "code",
   "execution_count": 20,
   "id": "23829591",
   "metadata": {},
   "outputs": [],
   "source": [
    "X_train=df.drop('CTC',axis=1)\n",
    "y_train=df['CTC']"
   ]
  },
  {
   "cell_type": "code",
   "execution_count": 21,
   "id": "e8b231ff",
   "metadata": {},
   "outputs": [
    {
     "data": {
      "text/html": [
       "<div>\n",
       "<style scoped>\n",
       "    .dataframe tbody tr th:only-of-type {\n",
       "        vertical-align: middle;\n",
       "    }\n",
       "\n",
       "    .dataframe tbody tr th {\n",
       "        vertical-align: top;\n",
       "    }\n",
       "\n",
       "    .dataframe thead th {\n",
       "        text-align: right;\n",
       "    }\n",
       "</style>\n",
       "<table border=\"1\" class=\"dataframe\">\n",
       "  <thead>\n",
       "    <tr style=\"text-align: right;\">\n",
       "      <th></th>\n",
       "      <th>Previous CTC</th>\n",
       "      <th>Previous job changes</th>\n",
       "      <th>Graduation marks</th>\n",
       "      <th>Exp (Months)</th>\n",
       "      <th>College_Tier 2</th>\n",
       "      <th>College_Tier 3</th>\n",
       "      <th>Role_Manager</th>\n",
       "      <th>City type_Non-Metro</th>\n",
       "    </tr>\n",
       "  </thead>\n",
       "  <tbody>\n",
       "    <tr>\n",
       "      <th>0</th>\n",
       "      <td>55523</td>\n",
       "      <td>3</td>\n",
       "      <td>66</td>\n",
       "      <td>19</td>\n",
       "      <td>0</td>\n",
       "      <td>0</td>\n",
       "      <td>1</td>\n",
       "      <td>1</td>\n",
       "    </tr>\n",
       "    <tr>\n",
       "      <th>1</th>\n",
       "      <td>57081</td>\n",
       "      <td>1</td>\n",
       "      <td>84</td>\n",
       "      <td>18</td>\n",
       "      <td>1</td>\n",
       "      <td>0</td>\n",
       "      <td>0</td>\n",
       "      <td>0</td>\n",
       "    </tr>\n",
       "    <tr>\n",
       "      <th>2</th>\n",
       "      <td>60347</td>\n",
       "      <td>2</td>\n",
       "      <td>52</td>\n",
       "      <td>28</td>\n",
       "      <td>1</td>\n",
       "      <td>0</td>\n",
       "      <td>0</td>\n",
       "      <td>0</td>\n",
       "    </tr>\n",
       "    <tr>\n",
       "      <th>3</th>\n",
       "      <td>49010</td>\n",
       "      <td>2</td>\n",
       "      <td>81</td>\n",
       "      <td>33</td>\n",
       "      <td>0</td>\n",
       "      <td>1</td>\n",
       "      <td>0</td>\n",
       "      <td>0</td>\n",
       "    </tr>\n",
       "    <tr>\n",
       "      <th>4</th>\n",
       "      <td>57879</td>\n",
       "      <td>4</td>\n",
       "      <td>74</td>\n",
       "      <td>32</td>\n",
       "      <td>0</td>\n",
       "      <td>1</td>\n",
       "      <td>0</td>\n",
       "      <td>0</td>\n",
       "    </tr>\n",
       "  </tbody>\n",
       "</table>\n",
       "</div>"
      ],
      "text/plain": [
       "   Previous CTC  Previous job changes  Graduation marks  Exp (Months)  \\\n",
       "0         55523                     3                66            19   \n",
       "1         57081                     1                84            18   \n",
       "2         60347                     2                52            28   \n",
       "3         49010                     2                81            33   \n",
       "4         57879                     4                74            32   \n",
       "\n",
       "   College_Tier 2  College_Tier 3  Role_Manager  City type_Non-Metro  \n",
       "0               0               0             1                    1  \n",
       "1               1               0             0                    0  \n",
       "2               1               0             0                    0  \n",
       "3               0               1             0                    0  \n",
       "4               0               1             0                    0  "
      ]
     },
     "execution_count": 21,
     "metadata": {},
     "output_type": "execute_result"
    }
   ],
   "source": [
    "X_train.head()"
   ]
  },
  {
   "cell_type": "code",
   "execution_count": 22,
   "id": "3ce1c7f3",
   "metadata": {},
   "outputs": [
    {
     "data": {
      "text/plain": [
       "0    71406.576531\n",
       "1    68005.870631\n",
       "2    76764.020277\n",
       "3    82092.386880\n",
       "4    73878.097729\n",
       "Name: CTC, dtype: float64"
      ]
     },
     "execution_count": 22,
     "metadata": {},
     "output_type": "execute_result"
    }
   ],
   "source": [
    "y_train.head()"
   ]
  },
  {
   "cell_type": "code",
   "execution_count": 23,
   "id": "6ecff632",
   "metadata": {},
   "outputs": [
    {
     "data": {
      "text/plain": [
       "LinearRegression()"
      ]
     },
     "execution_count": 23,
     "metadata": {},
     "output_type": "execute_result"
    }
   ],
   "source": [
    "linearReg=LinearRegression()\n",
    "linearReg.fit(X_train,y_train)"
   ]
  },
  {
   "cell_type": "code",
   "execution_count": 24,
   "id": "b691a293",
   "metadata": {},
   "outputs": [],
   "source": [
    "df_2=pd.read_excel(\"Test_data_file.xlsx\",header=0)"
   ]
  },
  {
   "cell_type": "code",
   "execution_count": 25,
   "id": "9ad7e566",
   "metadata": {},
   "outputs": [
    {
     "data": {
      "text/html": [
       "<div>\n",
       "<style scoped>\n",
       "    .dataframe tbody tr th:only-of-type {\n",
       "        vertical-align: middle;\n",
       "    }\n",
       "\n",
       "    .dataframe tbody tr th {\n",
       "        vertical-align: top;\n",
       "    }\n",
       "\n",
       "    .dataframe thead th {\n",
       "        text-align: right;\n",
       "    }\n",
       "</style>\n",
       "<table border=\"1\" class=\"dataframe\">\n",
       "  <thead>\n",
       "    <tr style=\"text-align: right;\">\n",
       "      <th></th>\n",
       "      <th>College</th>\n",
       "      <th>Role</th>\n",
       "      <th>City type</th>\n",
       "      <th>College_T1</th>\n",
       "      <th>College_T2</th>\n",
       "      <th>Role_Manager</th>\n",
       "      <th>City_Metro</th>\n",
       "      <th>previous CTC</th>\n",
       "      <th>previous job changes</th>\n",
       "      <th>Graduation marks</th>\n",
       "      <th>...</th>\n",
       "      <th>Unnamed: 14</th>\n",
       "      <th>Unnamed: 15</th>\n",
       "      <th>Unnamed: 16</th>\n",
       "      <th>Unnamed: 17</th>\n",
       "      <th>Unnamed: 18</th>\n",
       "      <th>Unnamed: 19</th>\n",
       "      <th>Unnamed: 20</th>\n",
       "      <th>Unnamed: 21</th>\n",
       "      <th>Unnamed: 22</th>\n",
       "      <th>Unnamed: 23</th>\n",
       "    </tr>\n",
       "  </thead>\n",
       "  <tbody>\n",
       "    <tr>\n",
       "      <th>0</th>\n",
       "      <td>Tier 1</td>\n",
       "      <td>Manager</td>\n",
       "      <td>Non-Metro</td>\n",
       "      <td>1</td>\n",
       "      <td>0</td>\n",
       "      <td>1</td>\n",
       "      <td>0</td>\n",
       "      <td>55523</td>\n",
       "      <td>3</td>\n",
       "      <td>66</td>\n",
       "      <td>...</td>\n",
       "      <td>NaN</td>\n",
       "      <td>NaN</td>\n",
       "      <td>NaN</td>\n",
       "      <td>NaN</td>\n",
       "      <td>NaN</td>\n",
       "      <td>NaN</td>\n",
       "      <td>NaN</td>\n",
       "      <td>NaN</td>\n",
       "      <td>NaN</td>\n",
       "      <td>NaN</td>\n",
       "    </tr>\n",
       "    <tr>\n",
       "      <th>1</th>\n",
       "      <td>Tier 2</td>\n",
       "      <td>Executive</td>\n",
       "      <td>Metro</td>\n",
       "      <td>0</td>\n",
       "      <td>1</td>\n",
       "      <td>0</td>\n",
       "      <td>1</td>\n",
       "      <td>57081</td>\n",
       "      <td>1</td>\n",
       "      <td>84</td>\n",
       "      <td>...</td>\n",
       "      <td>NaN</td>\n",
       "      <td>32438.761916</td>\n",
       "      <td>4659.731658</td>\n",
       "      <td>-832.274662</td>\n",
       "      <td>19359.943901</td>\n",
       "      <td>4080.577268</td>\n",
       "      <td>0.451593</td>\n",
       "      <td>-29.041071</td>\n",
       "      <td>-3.65235</td>\n",
       "      <td>258.940639</td>\n",
       "    </tr>\n",
       "    <tr>\n",
       "      <th>2</th>\n",
       "      <td>Tier 2</td>\n",
       "      <td>Executive</td>\n",
       "      <td>Metro</td>\n",
       "      <td>0</td>\n",
       "      <td>1</td>\n",
       "      <td>0</td>\n",
       "      <td>1</td>\n",
       "      <td>60347</td>\n",
       "      <td>2</td>\n",
       "      <td>52</td>\n",
       "      <td>...</td>\n",
       "      <td>NaN</td>\n",
       "      <td>NaN</td>\n",
       "      <td>NaN</td>\n",
       "      <td>NaN</td>\n",
       "      <td>NaN</td>\n",
       "      <td>NaN</td>\n",
       "      <td>NaN</td>\n",
       "      <td>NaN</td>\n",
       "      <td>NaN</td>\n",
       "      <td>NaN</td>\n",
       "    </tr>\n",
       "    <tr>\n",
       "      <th>3</th>\n",
       "      <td>Tier 3</td>\n",
       "      <td>Executive</td>\n",
       "      <td>Metro</td>\n",
       "      <td>0</td>\n",
       "      <td>0</td>\n",
       "      <td>0</td>\n",
       "      <td>1</td>\n",
       "      <td>49010</td>\n",
       "      <td>2</td>\n",
       "      <td>81</td>\n",
       "      <td>...</td>\n",
       "      <td>NaN</td>\n",
       "      <td>NaN</td>\n",
       "      <td>NaN</td>\n",
       "      <td>NaN</td>\n",
       "      <td>NaN</td>\n",
       "      <td>NaN</td>\n",
       "      <td>NaN</td>\n",
       "      <td>NaN</td>\n",
       "      <td>NaN</td>\n",
       "      <td>NaN</td>\n",
       "    </tr>\n",
       "    <tr>\n",
       "      <th>4</th>\n",
       "      <td>Tier 3</td>\n",
       "      <td>Executive</td>\n",
       "      <td>Metro</td>\n",
       "      <td>0</td>\n",
       "      <td>0</td>\n",
       "      <td>0</td>\n",
       "      <td>1</td>\n",
       "      <td>57879</td>\n",
       "      <td>4</td>\n",
       "      <td>74</td>\n",
       "      <td>...</td>\n",
       "      <td>NaN</td>\n",
       "      <td>NaN</td>\n",
       "      <td>NaN</td>\n",
       "      <td>NaN</td>\n",
       "      <td>NaN</td>\n",
       "      <td>NaN</td>\n",
       "      <td>NaN</td>\n",
       "      <td>NaN</td>\n",
       "      <td>NaN</td>\n",
       "      <td>NaN</td>\n",
       "    </tr>\n",
       "  </tbody>\n",
       "</table>\n",
       "<p>5 rows × 24 columns</p>\n",
       "</div>"
      ],
      "text/plain": [
       "  College       Role  City type  College_T1  College_T2  Role_Manager  \\\n",
       "0  Tier 1    Manager  Non-Metro           1           0             1   \n",
       "1  Tier 2  Executive      Metro           0           1             0   \n",
       "2  Tier 2  Executive      Metro           0           1             0   \n",
       "3  Tier 3  Executive      Metro           0           0             0   \n",
       "4  Tier 3  Executive      Metro           0           0             0   \n",
       "\n",
       "   City_Metro  previous CTC  previous job changes  Graduation marks  ...  \\\n",
       "0           0         55523                     3                66  ...   \n",
       "1           1         57081                     1                84  ...   \n",
       "2           1         60347                     2                52  ...   \n",
       "3           1         49010                     2                81  ...   \n",
       "4           1         57879                     4                74  ...   \n",
       "\n",
       "   Unnamed: 14   Unnamed: 15  Unnamed: 16  Unnamed: 17   Unnamed: 18  \\\n",
       "0          NaN           NaN          NaN          NaN           NaN   \n",
       "1          NaN  32438.761916  4659.731658  -832.274662  19359.943901   \n",
       "2          NaN           NaN          NaN          NaN           NaN   \n",
       "3          NaN           NaN          NaN          NaN           NaN   \n",
       "4          NaN           NaN          NaN          NaN           NaN   \n",
       "\n",
       "   Unnamed: 19  Unnamed: 20  Unnamed: 21  Unnamed: 22  Unnamed: 23  \n",
       "0          NaN          NaN          NaN          NaN          NaN  \n",
       "1  4080.577268     0.451593   -29.041071     -3.65235   258.940639  \n",
       "2          NaN          NaN          NaN          NaN          NaN  \n",
       "3          NaN          NaN          NaN          NaN          NaN  \n",
       "4          NaN          NaN          NaN          NaN          NaN  \n",
       "\n",
       "[5 rows x 24 columns]"
      ]
     },
     "execution_count": 25,
     "metadata": {},
     "output_type": "execute_result"
    }
   ],
   "source": [
    "df_2.head()"
   ]
  },
  {
   "cell_type": "code",
   "execution_count": 26,
   "id": "75b254d5",
   "metadata": {},
   "outputs": [],
   "source": [
    "df_test=df_2.iloc[:,:12]"
   ]
  },
  {
   "cell_type": "code",
   "execution_count": 27,
   "id": "bee1f9e4",
   "metadata": {},
   "outputs": [
    {
     "data": {
      "text/html": [
       "<div>\n",
       "<style scoped>\n",
       "    .dataframe tbody tr th:only-of-type {\n",
       "        vertical-align: middle;\n",
       "    }\n",
       "\n",
       "    .dataframe tbody tr th {\n",
       "        vertical-align: top;\n",
       "    }\n",
       "\n",
       "    .dataframe thead th {\n",
       "        text-align: right;\n",
       "    }\n",
       "</style>\n",
       "<table border=\"1\" class=\"dataframe\">\n",
       "  <thead>\n",
       "    <tr style=\"text-align: right;\">\n",
       "      <th></th>\n",
       "      <th>College</th>\n",
       "      <th>Role</th>\n",
       "      <th>City type</th>\n",
       "      <th>College_T1</th>\n",
       "      <th>College_T2</th>\n",
       "      <th>Role_Manager</th>\n",
       "      <th>City_Metro</th>\n",
       "      <th>previous CTC</th>\n",
       "      <th>previous job changes</th>\n",
       "      <th>Graduation marks</th>\n",
       "      <th>Exp</th>\n",
       "      <th>Actual CTC</th>\n",
       "    </tr>\n",
       "  </thead>\n",
       "  <tbody>\n",
       "    <tr>\n",
       "      <th>0</th>\n",
       "      <td>Tier 1</td>\n",
       "      <td>Manager</td>\n",
       "      <td>Non-Metro</td>\n",
       "      <td>1</td>\n",
       "      <td>0</td>\n",
       "      <td>1</td>\n",
       "      <td>0</td>\n",
       "      <td>55523</td>\n",
       "      <td>3</td>\n",
       "      <td>66</td>\n",
       "      <td>19</td>\n",
       "      <td>71406.576531</td>\n",
       "    </tr>\n",
       "    <tr>\n",
       "      <th>1</th>\n",
       "      <td>Tier 2</td>\n",
       "      <td>Executive</td>\n",
       "      <td>Metro</td>\n",
       "      <td>0</td>\n",
       "      <td>1</td>\n",
       "      <td>0</td>\n",
       "      <td>1</td>\n",
       "      <td>57081</td>\n",
       "      <td>1</td>\n",
       "      <td>84</td>\n",
       "      <td>18</td>\n",
       "      <td>68005.870631</td>\n",
       "    </tr>\n",
       "    <tr>\n",
       "      <th>2</th>\n",
       "      <td>Tier 2</td>\n",
       "      <td>Executive</td>\n",
       "      <td>Metro</td>\n",
       "      <td>0</td>\n",
       "      <td>1</td>\n",
       "      <td>0</td>\n",
       "      <td>1</td>\n",
       "      <td>60347</td>\n",
       "      <td>2</td>\n",
       "      <td>52</td>\n",
       "      <td>28</td>\n",
       "      <td>76764.020277</td>\n",
       "    </tr>\n",
       "    <tr>\n",
       "      <th>3</th>\n",
       "      <td>Tier 3</td>\n",
       "      <td>Executive</td>\n",
       "      <td>Metro</td>\n",
       "      <td>0</td>\n",
       "      <td>0</td>\n",
       "      <td>0</td>\n",
       "      <td>1</td>\n",
       "      <td>49010</td>\n",
       "      <td>2</td>\n",
       "      <td>81</td>\n",
       "      <td>33</td>\n",
       "      <td>82092.386880</td>\n",
       "    </tr>\n",
       "    <tr>\n",
       "      <th>4</th>\n",
       "      <td>Tier 3</td>\n",
       "      <td>Executive</td>\n",
       "      <td>Metro</td>\n",
       "      <td>0</td>\n",
       "      <td>0</td>\n",
       "      <td>0</td>\n",
       "      <td>1</td>\n",
       "      <td>57879</td>\n",
       "      <td>4</td>\n",
       "      <td>74</td>\n",
       "      <td>32</td>\n",
       "      <td>73878.097729</td>\n",
       "    </tr>\n",
       "  </tbody>\n",
       "</table>\n",
       "</div>"
      ],
      "text/plain": [
       "  College       Role  City type  College_T1  College_T2  Role_Manager  \\\n",
       "0  Tier 1    Manager  Non-Metro           1           0             1   \n",
       "1  Tier 2  Executive      Metro           0           1             0   \n",
       "2  Tier 2  Executive      Metro           0           1             0   \n",
       "3  Tier 3  Executive      Metro           0           0             0   \n",
       "4  Tier 3  Executive      Metro           0           0             0   \n",
       "\n",
       "   City_Metro  previous CTC  previous job changes  Graduation marks  Exp  \\\n",
       "0           0         55523                     3                66   19   \n",
       "1           1         57081                     1                84   18   \n",
       "2           1         60347                     2                52   28   \n",
       "3           1         49010                     2                81   33   \n",
       "4           1         57879                     4                74   32   \n",
       "\n",
       "     Actual CTC  \n",
       "0  71406.576531  \n",
       "1  68005.870631  \n",
       "2  76764.020277  \n",
       "3  82092.386880  \n",
       "4  73878.097729  "
      ]
     },
     "execution_count": 27,
     "metadata": {},
     "output_type": "execute_result"
    }
   ],
   "source": [
    "df_test.head()"
   ]
  },
  {
   "cell_type": "markdown",
   "id": "7706fe18",
   "metadata": {},
   "source": [
    "We have to arrange the test dataset colums according to train dataset"
   ]
  },
  {
   "cell_type": "code",
   "execution_count": 28,
   "id": "321e7f91",
   "metadata": {},
   "outputs": [],
   "source": [
    "df_test=df_test[['College','Role','City type','previous CTC','previous job changes','Graduation marks','Exp','Actual CTC']]"
   ]
  },
  {
   "cell_type": "code",
   "execution_count": 29,
   "id": "90ca27ad",
   "metadata": {},
   "outputs": [
    {
     "data": {
      "text/html": [
       "<div>\n",
       "<style scoped>\n",
       "    .dataframe tbody tr th:only-of-type {\n",
       "        vertical-align: middle;\n",
       "    }\n",
       "\n",
       "    .dataframe tbody tr th {\n",
       "        vertical-align: top;\n",
       "    }\n",
       "\n",
       "    .dataframe thead th {\n",
       "        text-align: right;\n",
       "    }\n",
       "</style>\n",
       "<table border=\"1\" class=\"dataframe\">\n",
       "  <thead>\n",
       "    <tr style=\"text-align: right;\">\n",
       "      <th></th>\n",
       "      <th>College</th>\n",
       "      <th>Role</th>\n",
       "      <th>City type</th>\n",
       "      <th>previous CTC</th>\n",
       "      <th>previous job changes</th>\n",
       "      <th>Graduation marks</th>\n",
       "      <th>Exp</th>\n",
       "      <th>Actual CTC</th>\n",
       "    </tr>\n",
       "  </thead>\n",
       "  <tbody>\n",
       "    <tr>\n",
       "      <th>0</th>\n",
       "      <td>Tier 1</td>\n",
       "      <td>Manager</td>\n",
       "      <td>Non-Metro</td>\n",
       "      <td>55523</td>\n",
       "      <td>3</td>\n",
       "      <td>66</td>\n",
       "      <td>19</td>\n",
       "      <td>71406.576531</td>\n",
       "    </tr>\n",
       "    <tr>\n",
       "      <th>1</th>\n",
       "      <td>Tier 2</td>\n",
       "      <td>Executive</td>\n",
       "      <td>Metro</td>\n",
       "      <td>57081</td>\n",
       "      <td>1</td>\n",
       "      <td>84</td>\n",
       "      <td>18</td>\n",
       "      <td>68005.870631</td>\n",
       "    </tr>\n",
       "    <tr>\n",
       "      <th>2</th>\n",
       "      <td>Tier 2</td>\n",
       "      <td>Executive</td>\n",
       "      <td>Metro</td>\n",
       "      <td>60347</td>\n",
       "      <td>2</td>\n",
       "      <td>52</td>\n",
       "      <td>28</td>\n",
       "      <td>76764.020277</td>\n",
       "    </tr>\n",
       "    <tr>\n",
       "      <th>3</th>\n",
       "      <td>Tier 3</td>\n",
       "      <td>Executive</td>\n",
       "      <td>Metro</td>\n",
       "      <td>49010</td>\n",
       "      <td>2</td>\n",
       "      <td>81</td>\n",
       "      <td>33</td>\n",
       "      <td>82092.386880</td>\n",
       "    </tr>\n",
       "    <tr>\n",
       "      <th>4</th>\n",
       "      <td>Tier 3</td>\n",
       "      <td>Executive</td>\n",
       "      <td>Metro</td>\n",
       "      <td>57879</td>\n",
       "      <td>4</td>\n",
       "      <td>74</td>\n",
       "      <td>32</td>\n",
       "      <td>73878.097729</td>\n",
       "    </tr>\n",
       "  </tbody>\n",
       "</table>\n",
       "</div>"
      ],
      "text/plain": [
       "  College       Role  City type  previous CTC  previous job changes  \\\n",
       "0  Tier 1    Manager  Non-Metro         55523                     3   \n",
       "1  Tier 2  Executive      Metro         57081                     1   \n",
       "2  Tier 2  Executive      Metro         60347                     2   \n",
       "3  Tier 3  Executive      Metro         49010                     2   \n",
       "4  Tier 3  Executive      Metro         57879                     4   \n",
       "\n",
       "   Graduation marks  Exp    Actual CTC  \n",
       "0                66   19  71406.576531  \n",
       "1                84   18  68005.870631  \n",
       "2                52   28  76764.020277  \n",
       "3                81   33  82092.386880  \n",
       "4                74   32  73878.097729  "
      ]
     },
     "execution_count": 29,
     "metadata": {},
     "output_type": "execute_result"
    }
   ],
   "source": [
    "df_test.head()"
   ]
  },
  {
   "cell_type": "code",
   "execution_count": 30,
   "id": "654c9eb2",
   "metadata": {},
   "outputs": [],
   "source": [
    "df_test=pd.get_dummies(df_test,drop_first=True)"
   ]
  },
  {
   "cell_type": "code",
   "execution_count": 31,
   "id": "e4d51068",
   "metadata": {},
   "outputs": [
    {
     "data": {
      "text/html": [
       "<div>\n",
       "<style scoped>\n",
       "    .dataframe tbody tr th:only-of-type {\n",
       "        vertical-align: middle;\n",
       "    }\n",
       "\n",
       "    .dataframe tbody tr th {\n",
       "        vertical-align: top;\n",
       "    }\n",
       "\n",
       "    .dataframe thead th {\n",
       "        text-align: right;\n",
       "    }\n",
       "</style>\n",
       "<table border=\"1\" class=\"dataframe\">\n",
       "  <thead>\n",
       "    <tr style=\"text-align: right;\">\n",
       "      <th></th>\n",
       "      <th>previous CTC</th>\n",
       "      <th>previous job changes</th>\n",
       "      <th>Graduation marks</th>\n",
       "      <th>Exp</th>\n",
       "      <th>Actual CTC</th>\n",
       "      <th>College_Tier 2</th>\n",
       "      <th>College_Tier 3</th>\n",
       "      <th>Role_Manager</th>\n",
       "      <th>City type_Non-Metro</th>\n",
       "    </tr>\n",
       "  </thead>\n",
       "  <tbody>\n",
       "    <tr>\n",
       "      <th>0</th>\n",
       "      <td>55523</td>\n",
       "      <td>3</td>\n",
       "      <td>66</td>\n",
       "      <td>19</td>\n",
       "      <td>71406.576531</td>\n",
       "      <td>0</td>\n",
       "      <td>0</td>\n",
       "      <td>1</td>\n",
       "      <td>1</td>\n",
       "    </tr>\n",
       "    <tr>\n",
       "      <th>1</th>\n",
       "      <td>57081</td>\n",
       "      <td>1</td>\n",
       "      <td>84</td>\n",
       "      <td>18</td>\n",
       "      <td>68005.870631</td>\n",
       "      <td>1</td>\n",
       "      <td>0</td>\n",
       "      <td>0</td>\n",
       "      <td>0</td>\n",
       "    </tr>\n",
       "    <tr>\n",
       "      <th>2</th>\n",
       "      <td>60347</td>\n",
       "      <td>2</td>\n",
       "      <td>52</td>\n",
       "      <td>28</td>\n",
       "      <td>76764.020277</td>\n",
       "      <td>1</td>\n",
       "      <td>0</td>\n",
       "      <td>0</td>\n",
       "      <td>0</td>\n",
       "    </tr>\n",
       "    <tr>\n",
       "      <th>3</th>\n",
       "      <td>49010</td>\n",
       "      <td>2</td>\n",
       "      <td>81</td>\n",
       "      <td>33</td>\n",
       "      <td>82092.386880</td>\n",
       "      <td>0</td>\n",
       "      <td>1</td>\n",
       "      <td>0</td>\n",
       "      <td>0</td>\n",
       "    </tr>\n",
       "    <tr>\n",
       "      <th>4</th>\n",
       "      <td>57879</td>\n",
       "      <td>4</td>\n",
       "      <td>74</td>\n",
       "      <td>32</td>\n",
       "      <td>73878.097729</td>\n",
       "      <td>0</td>\n",
       "      <td>1</td>\n",
       "      <td>0</td>\n",
       "      <td>0</td>\n",
       "    </tr>\n",
       "  </tbody>\n",
       "</table>\n",
       "</div>"
      ],
      "text/plain": [
       "   previous CTC  previous job changes  Graduation marks  Exp    Actual CTC  \\\n",
       "0         55523                     3                66   19  71406.576531   \n",
       "1         57081                     1                84   18  68005.870631   \n",
       "2         60347                     2                52   28  76764.020277   \n",
       "3         49010                     2                81   33  82092.386880   \n",
       "4         57879                     4                74   32  73878.097729   \n",
       "\n",
       "   College_Tier 2  College_Tier 3  Role_Manager  City type_Non-Metro  \n",
       "0               0               0             1                    1  \n",
       "1               1               0             0                    0  \n",
       "2               1               0             0                    0  \n",
       "3               0               1             0                    0  \n",
       "4               0               1             0                    0  "
      ]
     },
     "execution_count": 31,
     "metadata": {},
     "output_type": "execute_result"
    }
   ],
   "source": [
    "df_test.head()"
   ]
  },
  {
   "cell_type": "code",
   "execution_count": 32,
   "id": "8463b88c",
   "metadata": {},
   "outputs": [
    {
     "name": "stdout",
     "output_type": "stream",
     "text": [
      "<class 'pandas.core.frame.DataFrame'>\n",
      "RangeIndex: 1338 entries, 0 to 1337\n",
      "Data columns (total 9 columns):\n",
      " #   Column                Non-Null Count  Dtype  \n",
      "---  ------                --------------  -----  \n",
      " 0   previous CTC          1338 non-null   int64  \n",
      " 1   previous job changes  1338 non-null   int64  \n",
      " 2   Graduation marks      1338 non-null   int64  \n",
      " 3   Exp                   1338 non-null   int64  \n",
      " 4   Actual CTC            1338 non-null   float64\n",
      " 5   College_Tier 2        1338 non-null   uint8  \n",
      " 6   College_Tier 3        1338 non-null   uint8  \n",
      " 7   Role_Manager          1338 non-null   uint8  \n",
      " 8   City type_Non-Metro   1338 non-null   uint8  \n",
      "dtypes: float64(1), int64(4), uint8(4)\n",
      "memory usage: 57.6 KB\n"
     ]
    }
   ],
   "source": [
    "df_test.info()"
   ]
  },
  {
   "cell_type": "code",
   "execution_count": 33,
   "id": "66ecb27f",
   "metadata": {},
   "outputs": [
    {
     "data": {
      "text/html": [
       "<div>\n",
       "<style scoped>\n",
       "    .dataframe tbody tr th:only-of-type {\n",
       "        vertical-align: middle;\n",
       "    }\n",
       "\n",
       "    .dataframe tbody tr th {\n",
       "        vertical-align: top;\n",
       "    }\n",
       "\n",
       "    .dataframe thead th {\n",
       "        text-align: right;\n",
       "    }\n",
       "</style>\n",
       "<table border=\"1\" class=\"dataframe\">\n",
       "  <thead>\n",
       "    <tr style=\"text-align: right;\">\n",
       "      <th></th>\n",
       "      <th>Previous CTC</th>\n",
       "      <th>Previous job changes</th>\n",
       "      <th>Graduation marks</th>\n",
       "      <th>Exp (Months)</th>\n",
       "      <th>CTC</th>\n",
       "      <th>College_Tier 2</th>\n",
       "      <th>College_Tier 3</th>\n",
       "      <th>Role_Manager</th>\n",
       "      <th>City type_Non-Metro</th>\n",
       "    </tr>\n",
       "  </thead>\n",
       "  <tbody>\n",
       "    <tr>\n",
       "      <th>0</th>\n",
       "      <td>55523</td>\n",
       "      <td>3</td>\n",
       "      <td>66</td>\n",
       "      <td>19</td>\n",
       "      <td>71406.576531</td>\n",
       "      <td>0</td>\n",
       "      <td>0</td>\n",
       "      <td>1</td>\n",
       "      <td>1</td>\n",
       "    </tr>\n",
       "    <tr>\n",
       "      <th>1</th>\n",
       "      <td>57081</td>\n",
       "      <td>1</td>\n",
       "      <td>84</td>\n",
       "      <td>18</td>\n",
       "      <td>68005.870631</td>\n",
       "      <td>1</td>\n",
       "      <td>0</td>\n",
       "      <td>0</td>\n",
       "      <td>0</td>\n",
       "    </tr>\n",
       "    <tr>\n",
       "      <th>2</th>\n",
       "      <td>60347</td>\n",
       "      <td>2</td>\n",
       "      <td>52</td>\n",
       "      <td>28</td>\n",
       "      <td>76764.020277</td>\n",
       "      <td>1</td>\n",
       "      <td>0</td>\n",
       "      <td>0</td>\n",
       "      <td>0</td>\n",
       "    </tr>\n",
       "    <tr>\n",
       "      <th>3</th>\n",
       "      <td>49010</td>\n",
       "      <td>2</td>\n",
       "      <td>81</td>\n",
       "      <td>33</td>\n",
       "      <td>82092.386880</td>\n",
       "      <td>0</td>\n",
       "      <td>1</td>\n",
       "      <td>0</td>\n",
       "      <td>0</td>\n",
       "    </tr>\n",
       "    <tr>\n",
       "      <th>4</th>\n",
       "      <td>57879</td>\n",
       "      <td>4</td>\n",
       "      <td>74</td>\n",
       "      <td>32</td>\n",
       "      <td>73878.097729</td>\n",
       "      <td>0</td>\n",
       "      <td>1</td>\n",
       "      <td>0</td>\n",
       "      <td>0</td>\n",
       "    </tr>\n",
       "  </tbody>\n",
       "</table>\n",
       "</div>"
      ],
      "text/plain": [
       "   Previous CTC  Previous job changes  Graduation marks  Exp (Months)  \\\n",
       "0         55523                     3                66            19   \n",
       "1         57081                     1                84            18   \n",
       "2         60347                     2                52            28   \n",
       "3         49010                     2                81            33   \n",
       "4         57879                     4                74            32   \n",
       "\n",
       "            CTC  College_Tier 2  College_Tier 3  Role_Manager  \\\n",
       "0  71406.576531               0               0             1   \n",
       "1  68005.870631               1               0             0   \n",
       "2  76764.020277               1               0             0   \n",
       "3  82092.386880               0               1             0   \n",
       "4  73878.097729               0               1             0   \n",
       "\n",
       "   City type_Non-Metro  \n",
       "0                    1  \n",
       "1                    0  \n",
       "2                    0  \n",
       "3                    0  \n",
       "4                    0  "
      ]
     },
     "execution_count": 33,
     "metadata": {},
     "output_type": "execute_result"
    }
   ],
   "source": [
    "df.head()"
   ]
  },
  {
   "cell_type": "code",
   "execution_count": 34,
   "id": "e5401ff6",
   "metadata": {},
   "outputs": [],
   "source": [
    "X_test=df_test.drop('Actual CTC',axis=1)\n",
    "y_test=df_test['Actual CTC']"
   ]
  },
  {
   "cell_type": "code",
   "execution_count": 35,
   "id": "b33198a6",
   "metadata": {},
   "outputs": [
    {
     "data": {
      "text/html": [
       "<div>\n",
       "<style scoped>\n",
       "    .dataframe tbody tr th:only-of-type {\n",
       "        vertical-align: middle;\n",
       "    }\n",
       "\n",
       "    .dataframe tbody tr th {\n",
       "        vertical-align: top;\n",
       "    }\n",
       "\n",
       "    .dataframe thead th {\n",
       "        text-align: right;\n",
       "    }\n",
       "</style>\n",
       "<table border=\"1\" class=\"dataframe\">\n",
       "  <thead>\n",
       "    <tr style=\"text-align: right;\">\n",
       "      <th></th>\n",
       "      <th>previous CTC</th>\n",
       "      <th>previous job changes</th>\n",
       "      <th>Graduation marks</th>\n",
       "      <th>Exp</th>\n",
       "      <th>College_Tier 2</th>\n",
       "      <th>College_Tier 3</th>\n",
       "      <th>Role_Manager</th>\n",
       "      <th>City type_Non-Metro</th>\n",
       "    </tr>\n",
       "  </thead>\n",
       "  <tbody>\n",
       "    <tr>\n",
       "      <th>0</th>\n",
       "      <td>55523</td>\n",
       "      <td>3</td>\n",
       "      <td>66</td>\n",
       "      <td>19</td>\n",
       "      <td>0</td>\n",
       "      <td>0</td>\n",
       "      <td>1</td>\n",
       "      <td>1</td>\n",
       "    </tr>\n",
       "    <tr>\n",
       "      <th>1</th>\n",
       "      <td>57081</td>\n",
       "      <td>1</td>\n",
       "      <td>84</td>\n",
       "      <td>18</td>\n",
       "      <td>1</td>\n",
       "      <td>0</td>\n",
       "      <td>0</td>\n",
       "      <td>0</td>\n",
       "    </tr>\n",
       "    <tr>\n",
       "      <th>2</th>\n",
       "      <td>60347</td>\n",
       "      <td>2</td>\n",
       "      <td>52</td>\n",
       "      <td>28</td>\n",
       "      <td>1</td>\n",
       "      <td>0</td>\n",
       "      <td>0</td>\n",
       "      <td>0</td>\n",
       "    </tr>\n",
       "    <tr>\n",
       "      <th>3</th>\n",
       "      <td>49010</td>\n",
       "      <td>2</td>\n",
       "      <td>81</td>\n",
       "      <td>33</td>\n",
       "      <td>0</td>\n",
       "      <td>1</td>\n",
       "      <td>0</td>\n",
       "      <td>0</td>\n",
       "    </tr>\n",
       "    <tr>\n",
       "      <th>4</th>\n",
       "      <td>57879</td>\n",
       "      <td>4</td>\n",
       "      <td>74</td>\n",
       "      <td>32</td>\n",
       "      <td>0</td>\n",
       "      <td>1</td>\n",
       "      <td>0</td>\n",
       "      <td>0</td>\n",
       "    </tr>\n",
       "  </tbody>\n",
       "</table>\n",
       "</div>"
      ],
      "text/plain": [
       "   previous CTC  previous job changes  Graduation marks  Exp  College_Tier 2  \\\n",
       "0         55523                     3                66   19               0   \n",
       "1         57081                     1                84   18               1   \n",
       "2         60347                     2                52   28               1   \n",
       "3         49010                     2                81   33               0   \n",
       "4         57879                     4                74   32               0   \n",
       "\n",
       "   College_Tier 3  Role_Manager  City type_Non-Metro  \n",
       "0               0             1                    1  \n",
       "1               0             0                    0  \n",
       "2               0             0                    0  \n",
       "3               1             0                    0  \n",
       "4               1             0                    0  "
      ]
     },
     "execution_count": 35,
     "metadata": {},
     "output_type": "execute_result"
    }
   ],
   "source": [
    "X_test.head()"
   ]
  },
  {
   "cell_type": "code",
   "execution_count": 36,
   "id": "b42b9993",
   "metadata": {},
   "outputs": [],
   "source": [
    "from sklearn.metrics import r2_score,mean_squared_error as mse "
   ]
  },
  {
   "cell_type": "code",
   "execution_count": 37,
   "id": "6df77eef",
   "metadata": {},
   "outputs": [
    {
     "data": {
      "text/plain": [
       "0.6081873160506195"
      ]
     },
     "execution_count": 37,
     "metadata": {},
     "output_type": "execute_result"
    }
   ],
   "source": [
    "r2_score(y_test,linearReg.predict(X_test))"
   ]
  },
  {
   "cell_type": "code",
   "execution_count": 38,
   "id": "d0aec1f2",
   "metadata": {},
   "outputs": [
    {
     "data": {
      "text/plain": [
       "61677937.04530962"
      ]
     },
     "execution_count": 38,
     "metadata": {},
     "output_type": "execute_result"
    }
   ],
   "source": [
    "mse(y_test,linearReg.predict(X_test))"
   ]
  },
  {
   "cell_type": "code",
   "execution_count": null,
   "id": "9ea143e4",
   "metadata": {},
   "outputs": [],
   "source": []
  }
 ],
 "metadata": {
  "kernelspec": {
   "display_name": "Python 3",
   "language": "python",
   "name": "python3"
  },
  "language_info": {
   "codemirror_mode": {
    "name": "ipython",
    "version": 3
   },
   "file_extension": ".py",
   "mimetype": "text/x-python",
   "name": "python",
   "nbconvert_exporter": "python",
   "pygments_lexer": "ipython3",
   "version": "3.8.8"
  }
 },
 "nbformat": 4,
 "nbformat_minor": 5
}
